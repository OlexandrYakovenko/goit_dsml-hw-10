{
  "nbformat": 4,
  "nbformat_minor": 0,
  "metadata": {
    "colab": {
      "provenance": []
    },
    "kernelspec": {
      "name": "python3",
      "display_name": "Python 3"
    },
    "language_info": {
      "name": "python"
    }
  },
  "cells": [
    {
      "cell_type": "markdown",
      "source": [
        "## Завдання"
      ],
      "metadata": {
        "id": "HSuXGI_W-C4l"
      }
    },
    {
      "cell_type": "markdown",
      "source": [
        "На цьому тижні ми вивчили як працюють рекомендаційні системи. Пропонуємо вам познайомитись з бібліотекою surprise, котра якраз є по суті додатком до знайомої нам бібліотеки scikit-learn для тренування моделей рекомендаційних систем.\n",
        "\n",
        "\n",
        "\n",
        "Візьміть датасет movielens і побудуйте модель матричної факторизації. У даній бібліотеці він має назву SVD. Підберіть найкращі параметри за допомогою крос-валідації, також поекспериментуйте з іншими алгоритмами розрахунків (SVD++, NMF) і оберіть той, який буде оптимальним.\n",
        "\n",
        "\n",
        "\n",
        "Підказки як саме побудувати дану модель ви знайдете в документації до даної бібліотеки."
      ],
      "metadata": {
        "id": "K1G49mQE-H4I"
      }
    },
    {
      "cell_type": "markdown",
      "source": [
        "# 1. Встановлення та імпорт бібліотек"
      ],
      "metadata": {
        "id": "IRrvgqr7-K26"
      }
    },
    {
      "cell_type": "code",
      "execution_count": 1,
      "metadata": {
        "id": "nCd3osxsldIT",
        "colab": {
          "base_uri": "https://localhost:8080/"
        },
        "outputId": "e6567c90-cb53-4a91-b27b-30ec2f021780"
      },
      "outputs": [
        {
          "output_type": "stream",
          "name": "stdout",
          "text": [
            "Collecting surprise\n",
            "  Downloading surprise-0.1-py2.py3-none-any.whl (1.8 kB)\n",
            "Collecting scikit-surprise (from surprise)\n",
            "  Downloading scikit_surprise-1.1.4.tar.gz (154 kB)\n",
            "\u001b[2K     \u001b[90m━━━━━━━━━━━━━━━━━━━━━━━━━━━━━━━━━━━━━━━━\u001b[0m \u001b[32m154.4/154.4 kB\u001b[0m \u001b[31m1.8 MB/s\u001b[0m eta \u001b[36m0:00:00\u001b[0m\n",
            "\u001b[?25h  Installing build dependencies ... \u001b[?25l\u001b[?25hdone\n",
            "  Getting requirements to build wheel ... \u001b[?25l\u001b[?25hdone\n",
            "  Preparing metadata (pyproject.toml) ... \u001b[?25l\u001b[?25hdone\n",
            "Requirement already satisfied: joblib>=1.2.0 in /usr/local/lib/python3.10/dist-packages (from scikit-surprise->surprise) (1.4.2)\n",
            "Requirement already satisfied: numpy>=1.19.5 in /usr/local/lib/python3.10/dist-packages (from scikit-surprise->surprise) (1.25.2)\n",
            "Requirement already satisfied: scipy>=1.6.0 in /usr/local/lib/python3.10/dist-packages (from scikit-surprise->surprise) (1.11.4)\n",
            "Building wheels for collected packages: scikit-surprise\n",
            "  Building wheel for scikit-surprise (pyproject.toml) ... \u001b[?25l\u001b[?25hdone\n",
            "  Created wheel for scikit-surprise: filename=scikit_surprise-1.1.4-cp310-cp310-linux_x86_64.whl size=2357244 sha256=a2bb1ef3f4d0174771982dd23da836479910659bbc4c5f5e5d8cd4e8b1ee8af7\n",
            "  Stored in directory: /root/.cache/pip/wheels/4b/3f/df/6acbf0a40397d9bf3ff97f582cc22fb9ce66adde75bc71fd54\n",
            "Successfully built scikit-surprise\n",
            "Installing collected packages: scikit-surprise, surprise\n",
            "Successfully installed scikit-surprise-1.1.4 surprise-0.1\n"
          ]
        }
      ],
      "source": [
        "!pip install surprise"
      ]
    },
    {
      "cell_type": "code",
      "source": [
        "!pip install scikit-surprise"
      ],
      "metadata": {
        "colab": {
          "base_uri": "https://localhost:8080/"
        },
        "id": "PxTzgsil_Jir",
        "outputId": "c9a211cd-24f1-4b53-fc68-909e67295d75"
      },
      "execution_count": 2,
      "outputs": [
        {
          "output_type": "stream",
          "name": "stdout",
          "text": [
            "Requirement already satisfied: scikit-surprise in /usr/local/lib/python3.10/dist-packages (1.1.4)\n",
            "Requirement already satisfied: joblib>=1.2.0 in /usr/local/lib/python3.10/dist-packages (from scikit-surprise) (1.4.2)\n",
            "Requirement already satisfied: numpy>=1.19.5 in /usr/local/lib/python3.10/dist-packages (from scikit-surprise) (1.25.2)\n",
            "Requirement already satisfied: scipy>=1.6.0 in /usr/local/lib/python3.10/dist-packages (from scikit-surprise) (1.11.4)\n"
          ]
        }
      ]
    },
    {
      "cell_type": "code",
      "source": [
        "import pandas as pd\n",
        "import numpy as np\n",
        "from surprise import Reader, Dataset, SVD, SVDpp, KNNBaseline, SlopeOne, NMF\n",
        "from surprise.model_selection import train_test_split, cross_validate\n"
      ],
      "metadata": {
        "id": "OU918sUn-wUW"
      },
      "execution_count": 3,
      "outputs": []
    },
    {
      "cell_type": "markdown",
      "source": [
        "## 2. Завантаження та форматування датасету MovieLens"
      ],
      "metadata": {
        "id": "ZAdoYpSMlpLX"
      }
    },
    {
      "cell_type": "code",
      "source": [
        "# Завантаження рейтингових даних MovieLens\n",
        "#data = Dataset.load_builtin('movielens') #MovieLens # немає такого\n",
        "# Завантаження датасету Movielens (використовується версія 100k)\n",
        "data = Dataset.load_builtin('ml-100k')\n",
        "# URLError: <urlopen error [SSL: CERTIFICATE_VERIFY_FAILED] certificate verify failed: certificate has expired (_ssl.c:1007)>\n",
        "\n"
      ],
      "metadata": {
        "id": "roWy6OdY-9jX",
        "colab": {
          "base_uri": "https://localhost:8080/"
        },
        "outputId": "549c71b0-bf1b-445d-b917-b57d0e14c8a7"
      },
      "execution_count": 8,
      "outputs": [
        {
          "output_type": "stream",
          "name": "stdout",
          "text": [
            "Dataset ml-100k could not be found. Do you want to download it? [Y/n] y\n",
            "Trying to download dataset from https://files.grouplens.org/datasets/movielens/ml-100k.zip...\n",
            "Done! Dataset ml-100k has been saved to /root/.surprise_data/ml-100k\n"
          ]
        }
      ]
    },
    {
      "cell_type": "code",
      "source": [
        "trainset, testset = train_test_split(data, test_size=0.25)"
      ],
      "metadata": {
        "id": "0IRmIpMa__ck"
      },
      "execution_count": 9,
      "outputs": []
    },
    {
      "cell_type": "markdown",
      "source": [
        "## Крок 3: Побудова моделі та крос-валідація"
      ],
      "metadata": {
        "id": "xL2Qb7R1aeYH"
      }
    },
    {
      "cell_type": "markdown",
      "source": [
        "Модель SVD\n",
        "SVD (Singular Value Decomposition) - це базова модель матричної факторизації в surprise."
      ],
      "metadata": {
        "id": "G_R4Rq77aiTf"
      }
    },
    {
      "cell_type": "code",
      "source": [
        "# Побудова моделі SVD та крос-валідація\n",
        "algo_svd = SVD()\n",
        "\n",
        "# Крос-валідація\n",
        "results_svd = cross_validate(algo_svd, data, measures=['RMSE', 'MAE'], cv=5, verbose=True)\n",
        "\n",
        "# Виведення результатів\n",
        "print(results_svd)\n"
      ],
      "metadata": {
        "colab": {
          "base_uri": "https://localhost:8080/"
        },
        "id": "NtnuNiEeaThB",
        "outputId": "422df002-5a60-4313-e459-604e95d57d1e"
      },
      "execution_count": 10,
      "outputs": [
        {
          "output_type": "stream",
          "name": "stdout",
          "text": [
            "Evaluating RMSE, MAE of algorithm SVD on 5 split(s).\n",
            "\n",
            "                  Fold 1  Fold 2  Fold 3  Fold 4  Fold 5  Mean    Std     \n",
            "RMSE (testset)    0.9401  0.9315  0.9366  0.9380  0.9367  0.9366  0.0028  \n",
            "MAE (testset)     0.7409  0.7354  0.7367  0.7417  0.7373  0.7384  0.0025  \n",
            "Fit time          1.98    1.45    1.50    1.51    2.27    1.74    0.33    \n",
            "Test time         0.26    0.20    0.12    0.24    0.22    0.21    0.05    \n",
            "{'test_rmse': array([0.94010594, 0.9315343 , 0.93664785, 0.93803991, 0.93667447]), 'test_mae': array([0.74085452, 0.73535868, 0.73670259, 0.74169695, 0.73730288]), 'fit_time': (1.9821858406066895, 1.452197790145874, 1.4973928928375244, 1.5080924034118652, 2.2653300762176514), 'test_time': (0.2590599060058594, 0.19755077362060547, 0.12323951721191406, 0.2412705421447754, 0.22302865982055664)}\n"
          ]
        }
      ]
    },
    {
      "cell_type": "markdown",
      "source": [
        "Модель SVD++\n",
        "SVD++ - розширена версія SVD, яка також враховує взаємодію користувачів і об'єктів (фільмів)."
      ],
      "metadata": {
        "id": "-OHjgPn7apkk"
      }
    },
    {
      "cell_type": "code",
      "source": [
        "# Побудова моделі SVD++\n",
        "algo_svdpp = SVDpp()\n",
        "\n",
        "# Крос-валідація\n",
        "results_svdpp = cross_validate(algo_svdpp, data, measures=['RMSE', 'MAE'], cv=5, verbose=True)\n",
        "\n",
        "# Виведення результатів\n",
        "print(results_svdpp)\n"
      ],
      "metadata": {
        "colab": {
          "base_uri": "https://localhost:8080/"
        },
        "id": "SKqRCJakapNK",
        "outputId": "bcf02563-43af-4b1d-cf51-239adcc12fb5"
      },
      "execution_count": 11,
      "outputs": [
        {
          "output_type": "stream",
          "name": "stdout",
          "text": [
            "Evaluating RMSE, MAE of algorithm SVDpp on 5 split(s).\n",
            "\n",
            "                  Fold 1  Fold 2  Fold 3  Fold 4  Fold 5  Mean    Std     \n",
            "RMSE (testset)    0.9209  0.9113  0.9198  0.9230  0.9163  0.9182  0.0041  \n",
            "MAE (testset)     0.7211  0.7166  0.7223  0.7238  0.7166  0.7201  0.0030  \n",
            "Fit time          28.00   30.70   28.69   28.34   27.92   28.73   1.02    \n",
            "Test time         5.01    5.24    5.31    5.02    4.77    5.07    0.19    \n",
            "{'test_rmse': array([0.92085768, 0.9112639 , 0.91975733, 0.9229822 , 0.91626452]), 'test_mae': array([0.72107255, 0.71663853, 0.72226054, 0.72384757, 0.7165833 ]), 'fit_time': (27.99632954597473, 30.69675850868225, 28.68793773651123, 28.342483520507812, 27.917417764663696), 'test_time': (5.005091905593872, 5.238208770751953, 5.310897588729858, 5.021112680435181, 4.768839597702026)}\n"
          ]
        }
      ]
    },
    {
      "cell_type": "markdown",
      "source": [
        "Модель NMF\n",
        "NMF (Non-Negative Matrix Factorization) - альтернативний метод матричної факторизації, який обмежує коефіцієнти факторизації до невід'ємних значень."
      ],
      "metadata": {
        "id": "kGKK6-Sdbhr1"
      }
    },
    {
      "cell_type": "code",
      "source": [
        "# Побудова моделі NMF\n",
        "algo_nmf = NMF()\n",
        "\n",
        "# Крос-валідація\n",
        "results_nmf = cross_validate(algo_nmf, data, measures=['RMSE', 'MAE'], cv=5, verbose=True)\n",
        "\n",
        "# Виведення результатів\n",
        "print(results_nmf)\n"
      ],
      "metadata": {
        "colab": {
          "base_uri": "https://localhost:8080/"
        },
        "id": "J1qAIMwmbnNW",
        "outputId": "48f78e23-f12f-4fcb-cf90-6565df9491bf"
      },
      "execution_count": 12,
      "outputs": [
        {
          "output_type": "stream",
          "name": "stdout",
          "text": [
            "Evaluating RMSE, MAE of algorithm NMF on 5 split(s).\n",
            "\n",
            "                  Fold 1  Fold 2  Fold 3  Fold 4  Fold 5  Mean    Std     \n",
            "RMSE (testset)    0.9560  0.9602  0.9599  0.9667  0.9532  0.9592  0.0046  \n",
            "MAE (testset)     0.7510  0.7518  0.7555  0.7603  0.7500  0.7537  0.0038  \n",
            "Fit time          2.15    2.73    2.73    2.36    2.17    2.43    0.26    \n",
            "Test time         0.11    0.17    0.24    0.12    0.26    0.18    0.06    \n",
            "{'test_rmse': array([0.95601472, 0.96023466, 0.9598608 , 0.96674807, 0.95320226]), 'test_mae': array([0.75096365, 0.75183934, 0.75550714, 0.76033417, 0.74999349]), 'fit_time': (2.149674415588379, 2.727540969848633, 2.7253494262695312, 2.356273651123047, 2.1685845851898193), 'test_time': (0.10679888725280762, 0.1746511459350586, 0.24307537078857422, 0.12029290199279785, 0.2593834400177002)}\n"
          ]
        }
      ]
    },
    {
      "cell_type": "code",
      "source": [
        "results = {\n",
        "    \"SVD\":results_svd,\n",
        "    \"SVDpp\":results_svdpp,\n",
        "    \"NMF\":results_nmf\n",
        "}"
      ],
      "metadata": {
        "id": "KCXkwrWTdcPf"
      },
      "execution_count": 13,
      "outputs": []
    },
    {
      "cell_type": "code",
      "source": [
        "for model_name, result in results.items():\n",
        "    mean_rmse = result['test_rmse'].mean()\n",
        "    mean_mae = result['test_mae'].mean()\n",
        "    print(f\"{model_name} - Mean RMSE: {mean_rmse:.4f}, Mean MAE: {mean_mae:.4f}\")"
      ],
      "metadata": {
        "colab": {
          "base_uri": "https://localhost:8080/"
        },
        "id": "kYd6Q1iOgy7H",
        "outputId": "281541ca-462b-4b98-a534-87b55a10d960"
      },
      "execution_count": 14,
      "outputs": [
        {
          "output_type": "stream",
          "name": "stdout",
          "text": [
            "SVD - Mean RMSE: 0.9366, Mean MAE: 0.7384\n",
            "SVDpp - Mean RMSE: 0.9182, Mean MAE: 0.7201\n",
            "NMF - Mean RMSE: 0.9592, Mean MAE: 0.7537\n"
          ]
        }
      ]
    },
    {
      "cell_type": "markdown",
      "source": [
        "Оцінка та вибір моделі\n",
        "\n",
        "\n",
        "*   RMSE: Це основна метрика, яка оцінює, наскільки передбачення відхиляються від фактичних значень у середньому. Нижчі значення RMSE вказують на кращу модель.\n",
        "*   MAE: Це середня абсолютна похибка, яка також використовується для оцінки точності передбачень. Як і RMSE, нижчі значення MAE вказують на кращу модель.\n",
        "\n",
        "Однак, якщо одна модель має значно нижчий RMSE, але дещо вищий MAE (або навпаки), вам доведеться зважити, яка метрика є більш важливою для вашого конкретного випадку.\n",
        "\n",
        "\n"
      ],
      "metadata": {
        "id": "njNvoo6OlVrR"
      }
    },
    {
      "cell_type": "markdown",
      "source": [
        "## Згідно цих критеріїв та отриманих значень моделі, для наших даних найкраща модель - це SVDpp, яка має найменші значення Mean RMSE: 0.9182, Mean MAE: 0.7201"
      ],
      "metadata": {
        "id": "0fqizSGDlpBN"
      }
    }
  ]
}